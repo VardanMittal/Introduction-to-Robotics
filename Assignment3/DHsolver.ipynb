{
 "cells": [
  {
   "cell_type": "markdown",
   "metadata": {},
   "source": [
    "## DH Parameter Solver"
   ]
  },
  {
   "cell_type": "code",
   "execution_count": 30,
   "metadata": {},
   "outputs": [],
   "source": [
    "import numpy as np\n",
    "import sympy as sp"
   ]
  },
  {
   "cell_type": "code",
   "execution_count": 31,
   "metadata": {},
   "outputs": [],
   "source": [
    "c = lambda angle: round(np.cos(angle),2)\n",
    "s = lambda angle: round(np.sin(angle),2)"
   ]
  },
  {
   "cell_type": "code",
   "execution_count": 32,
   "metadata": {},
   "outputs": [],
   "source": [
    "def DH_matrix(theta,alpha,a,d):\n",
    "    mat = []\n",
    "    for i in range(len(theta)):\n",
    "        l = sp.symbols(f'l_{i+1}')\n",
    "        mat.append([round(np.deg2rad(theta[i]),2), np.round(np.deg2rad(alpha[i]),2), a[i],l])\n",
    "    return np.array(mat)"
   ]
  },
  {
   "cell_type": "code",
   "execution_count": 33,
   "metadata": {},
   "outputs": [],
   "source": [
    "T = lambda dh:np.array([\n",
    "    [c(dh[0]), -s(dh[0])*c(dh[1]), s(dh[0])*s(dh[1]), dh[2]*c(dh[0])],\n",
    "    [s(dh[0]), c(dh[0])*c(dh[1]), -c(dh[0])*s(dh[1]), dh[2]*s(dh[0])],\n",
    "    [0, s(dh[1]), c(dh[1]), dh[3]],\n",
    "    [0,0,0,1]\n",
    "    ])"
   ]
  },
  {
   "cell_type": "code",
   "execution_count": 34,
   "metadata": {},
   "outputs": [],
   "source": [
    "\n",
    "def endEffectorPosition(dh, T):\n",
    "    ans = []\n",
    "    I = np.eye(4)\n",
    "    for i in range(len(dh)):\n",
    "        I = I@T(dh[i,:])\n",
    "        ans = I\n",
    "    return ans"
   ]
  },
  {
   "cell_type": "code",
   "execution_count": null,
   "metadata": {},
   "outputs": [],
   "source": [
    "def manipulator_jacobian(DH_table, joint_types=None):\n",
    "    \"\"\"Compute the Jacobian matrix for the manipulator.\"\"\"\n",
    "    num_joints = DH_table.shape[0]\n",
    "    T_total = sp.eye(4)\n",
    "    J = sp.zeros(6, num_joints)\n",
    "    z = sp.Matrix([0, 0, 1])\n",
    "    o = sp.Matrix([0, 0, 0])\n",
    "\n",
    "    if joint_types is None:\n",
    "        joint_types = ['R'] * num_joints  # Assume all revolute if not specified\n",
    "\n",
    "    for i in range(num_joints):\n",
    "        T = T(DH_table[i, 0], DH_table[i, 1], DH_table[i, 2], DH_table[i, 3])\n",
    "        T_total = T_total * T\n",
    "        z = T_total[:3, 2]\n",
    "        o = T_total[:3, 3]\n",
    "\n",
    "        if joint_types[i] == 'R':  # Revolute joint\n",
    "            J[:3, i] = z.cross(endEffectorPosition(DH_table) - o)\n",
    "            J[3:, i] = z\n",
    "        elif joint_types[i] == 'P':  # Prismatic joint\n",
    "            J[:3, i] = z\n",
    "            J[3:, i] = sp.Matrix([0, 0, 0])\n",
    "\n",
    "    return J"
   ]
  },
  {
   "cell_type": "code",
   "execution_count": 35,
   "metadata": {},
   "outputs": [],
   "source": [
    "theta = [0,90,0]\n",
    "alpha = [-90,90,0]\n",
    "a = [0,0,0]\n",
    "d = 3"
   ]
  },
  {
   "cell_type": "code",
   "execution_count": 37,
   "metadata": {},
   "outputs": [],
   "source": [
    "a = DH_matrix(theta,alpha,a,d)"
   ]
  },
  {
   "cell_type": "code",
   "execution_count": null,
   "metadata": {},
   "outputs": [],
   "source": []
  },
  {
   "cell_type": "code",
   "execution_count": null,
   "metadata": {},
   "outputs": [],
   "source": []
  }
 ],
 "metadata": {
  "kernelspec": {
   "display_name": "Python 3",
   "language": "python",
   "name": "python3"
  },
  "language_info": {
   "codemirror_mode": {
    "name": "ipython",
    "version": 3
   },
   "file_extension": ".py",
   "mimetype": "text/x-python",
   "name": "python",
   "nbconvert_exporter": "python",
   "pygments_lexer": "ipython3",
   "version": "3.10.12"
  }
 },
 "nbformat": 4,
 "nbformat_minor": 2
}

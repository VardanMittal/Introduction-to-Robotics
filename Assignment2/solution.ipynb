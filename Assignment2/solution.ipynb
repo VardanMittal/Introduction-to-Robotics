{
 "cells": [
  {
   "cell_type": "code",
   "execution_count": 1,
   "metadata": {},
   "outputs": [],
   "source": [
    "import numpy as np"
   ]
  },
  {
   "cell_type": "markdown",
   "metadata": {},
   "source": [
    "### Rotation & Trasformation Matrix\n"
   ]
  },
  {
   "cell_type": "code",
   "execution_count": 2,
   "metadata": {},
   "outputs": [],
   "source": [
    "R_x = lambda theta: np.array([[1,0,0], [0,np.cos(theta), -np.sin(theta)], [0,np.sin(theta), np.cos(theta)]])\n",
    "R_y = lambda theta: np.array([[np.cos(theta), 0, np.sin(theta)], [0,1,0], [-np.sin(theta), 0, np.cos(theta)]])\n",
    "R_z = lambda theta: np.array([[np.cos(theta), -np.sin(theta), 0], [np.sin(theta), np.cos(theta),0], [0,0,1]])\n",
    "p = lambda x,y,z: np.array([x,y,z,1]).T"
   ]
  },
  {
   "cell_type": "code",
   "execution_count": 3,
   "metadata": {},
   "outputs": [],
   "source": [
    "H = lambda R, p: np.array([[R[0][0], R[0][1], R[0][2], p[0]],\n",
    "                           [R[1][0], R[1][1], R[1][2], p[1]],\n",
    "                           [R[2][0], R[2][1], R[2][2], p[2]],\n",
    "                           [0, 0, 0, 1]])"
   ]
  },
  {
   "cell_type": "markdown",
   "metadata": {},
   "source": [
    "# 1. Scara Configuration RRP\n"
   ]
  },
  {
   "cell_type": "code",
   "execution_count": 4,
   "metadata": {},
   "outputs": [],
   "source": [
    "def ScaraSolver(q1,q2,d,l0,l1,l2):\n",
    "    \"\"\"\n",
    "    This fuction returns the p0\n",
    "    \n",
    "    \n",
    "    \n",
    "    's coordinates\n",
    "    Keyword arguments:\n",
    "    q1,q1 -- joint angles|d -- planar joint movement|l0,l1,l2 -- link lengths from base to planar joint\n",
    "    Return: return a 4 X 1 vector with [p0x,p0y,p0z,1] configuration\n",
    "    \"\"\"\n",
    "    H01 = H(R_z(np.deg2rad(q1)),p(0,0,l0))\n",
    "    H12 = H(R_z(np.deg2rad(q2)), p(l1,0,0))\n",
    "    H23 = H(R_y(np.deg2rad(90)), p(l2,0,0))\n",
    "    p3 = p(d,0,0)\n",
    "    return H01@H12@H23@p3"
   ]
  },
  {
   "cell_type": "code",
   "execution_count": 5,
   "metadata": {},
   "outputs": [],
   "source": [
    "ans = ScaraSolver(30,45,2,5,4,3)"
   ]
  },
  {
   "cell_type": "code",
   "execution_count": 6,
   "metadata": {},
   "outputs": [
    {
     "data": {
      "text/plain": [
       "array([4.24055875, 4.89777748, 3.        , 1.        ])"
      ]
     },
     "execution_count": 6,
     "metadata": {},
     "output_type": "execute_result"
    }
   ],
   "source": [
    "ans"
   ]
  },
  {
   "cell_type": "markdown",
   "metadata": {},
   "source": [
    "# 2. Stanford Configuration RRP\n"
   ]
  },
  {
   "cell_type": "code",
   "execution_count": 7,
   "metadata": {},
   "outputs": [],
   "source": [
    "def StanfordSolver(q1,q2,d,l1,l2):\n",
    "    \"\"\"\n",
    "    This fuction returns the p0's coordinates\n",
    "\n",
    "    Keyword arguments:\n",
    "    q1,q1 -- joint angles|d -- planar joint movement|l1,l2 -- link lengths from base to planar joint\n",
    "    Return: return a 4 X 1 vector with [p0x,p0y,p0z,1] configuration\n",
    "    \"\"\"\n",
    "    H01 = H(R_z(np.deg2rad(q1)), p(0,0,0))\n",
    "    H12 = H(R_y(np.deg2rad(-90)),p(0,0,l1))\n",
    "    H23 = H(R_z(np.deg2rad(q2)), p(0,0,0))\n",
    "    H34 = H(R_z(np.deg2rad(0)), p(0,0,-l2))\n",
    "    H45 = H(R_z(np.deg2rad(-90)), p(0,0,0))\n",
    "    p5 = p(d,0,0)\n",
    "    return H01@H12@H23@H34@H45@p5"
   ]
  },
  {
   "cell_type": "code",
   "execution_count": 12,
   "metadata": {},
   "outputs": [
    {
     "data": {
      "text/plain": [
       "array([5.39078719, 0.66288269, 7.12132034, 1.        ])"
      ]
     },
     "execution_count": 12,
     "metadata": {},
     "output_type": "execute_result"
    }
   ],
   "source": [
    "StanfordSolver(30,45,3,5,5)"
   ]
  },
  {
   "cell_type": "markdown",
   "metadata": {},
   "source": [
    "# 3. Drone Obstacle\n"
   ]
  },
  {
   "cell_type": "code",
   "execution_count": 17,
   "metadata": {},
   "outputs": [],
   "source": [
    "def drone():\n",
    "    \"\"\"\n",
    "    This fuction returns the p0's coordinates\n",
    "\n",
    "    Keyword arguments:\n",
    "    q1,q1 -- joint angles|d -- planar joint movement|h -- drone height\n",
    "    Return: return a 4 X 1 vector with [p0x,p0y,p0z,1] configuration\n",
    "    \"\"\"\n",
    "    H01 = H(R_z(np.deg2rad(0)),(0,0,10))\n",
    "    H12 = H(R_x(np.deg2rad(30)),(0,0,0))\n",
    "    H23 = H(R_z(np.deg2rad(60)),(0,0,0))\n",
    "    p3 = p(0,0,3)\n",
    "    return H01@H12@H23@p3"
   ]
  },
  {
   "cell_type": "code",
   "execution_count": 18,
   "metadata": {},
   "outputs": [
    {
     "data": {
      "text/plain": [
       "array([ 0.        , -1.5       , 12.59807621,  1.        ])"
      ]
     },
     "execution_count": 18,
     "metadata": {},
     "output_type": "execute_result"
    }
   ],
   "source": [
    "drone()"
   ]
  },
  {
   "cell_type": "code",
   "execution_count": null,
   "metadata": {},
   "outputs": [],
   "source": []
  }
 ],
 "metadata": {
  "kernelspec": {
   "display_name": ".venv",
   "language": "python",
   "name": "python3"
  },
  "language_info": {
   "codemirror_mode": {
    "name": "ipython",
    "version": 3
   },
   "file_extension": ".py",
   "mimetype": "text/x-python",
   "name": "python",
   "nbconvert_exporter": "python",
   "pygments_lexer": "ipython3",
   "version": "undefined.undefined.undefined"
  }
 },
 "nbformat": 4,
 "nbformat_minor": 2
}

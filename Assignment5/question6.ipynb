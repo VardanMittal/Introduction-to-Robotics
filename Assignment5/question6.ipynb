{
 "cells": [
  {
   "cell_type": "code",
   "execution_count": 1,
   "metadata": {},
   "outputs": [],
   "source": [
    "import numpy as np\n",
    "from utils import *"
   ]
  },
  {
   "cell_type": "code",
   "execution_count": null,
   "metadata": {},
   "outputs": [],
   "source": [
    "def wrist_calculations(T_final):\n",
    "    u_33 = T_final[3, 3]\n",
    "    u_13 = T_final[1, 3]\n",
    "    u_23 = T_final[2, 3]\n",
    "    u_31 = T_final[3, 1]\n",
    "    u_32 = T_final[3, 2]\n",
    "    theta = np.arctan2(u_33, np.sqrt(1 - u_33**2))\n",
    "    phi = np.arctan2(u_13, u_23)\n",
    "    psi = np.arctan2(-u_31, u_32)\n",
    "\n",
    "    return theta, phi, psi"
   ]
  }
 ],
 "metadata": {
  "kernelspec": {
   "display_name": "Python 3",
   "language": "python",
   "name": "python3"
  },
  "language_info": {
   "codemirror_mode": {
    "name": "ipython",
    "version": 3
   },
   "file_extension": ".py",
   "mimetype": "text/x-python",
   "name": "python",
   "nbconvert_exporter": "python",
   "pygments_lexer": "ipython3",
   "version": "3.12.4"
  }
 },
 "nbformat": 4,
 "nbformat_minor": 2
}

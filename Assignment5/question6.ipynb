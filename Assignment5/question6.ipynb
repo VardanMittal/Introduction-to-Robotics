{
 "cells": [
  {
   "cell_type": "code",
   "execution_count": 23,
   "metadata": {},
   "outputs": [],
   "source": [
    "import numpy as np\n",
    "from utils import *\n",
    "\n",
    "theta_g = 45\n",
    "phi_g = 60\n",
    "psi_g = 30\n",
    "\n",
    "c = lambda angle: np.cos(np.deg2rad(angle))\n",
    "s = lambda angle: np.sin(np.deg2rad(angle))"
   ]
  },
  {
   "cell_type": "code",
   "execution_count": 24,
   "metadata": {},
   "outputs": [],
   "source": [
    "def wrist_calculations(R_final):\n",
    "    u_33 = R_final[2, 2]\n",
    "    u_13 = R_final[0, 2]\n",
    "    u_23 = R_final[1, 2]\n",
    "    u_31 = R_final[2, 0]\n",
    "    u_32 = R_final[2, 1]\n",
    "    \n",
    "    theta = np.arctan2(u_33, np.sqrt(1 - u_33**2))\n",
    "    phi = np.arctan2(u_13, u_23)\n",
    "    psi = np.arctan2(-u_31, u_32)\n",
    "\n",
    "    return np.rad2deg(theta), np.rad2deg(phi), np.rad2deg(psi)"
   ]
  },
  {
   "cell_type": "code",
   "execution_count": 25,
   "metadata": {},
   "outputs": [],
   "source": [
    "u11 = c(phi_g)*c(psi_g)*c(theta_g) - s(phi_g)*s(psi_g)\n",
    "u12 = -c(phi_g)*c(theta_g)*s(psi_g) - s(phi_g)*c(psi_g)\n",
    "u13 = c(phi_g)*s(theta_g)\n",
    "u21 = s(phi_g)*c(psi_g)*c(theta_g) + c(phi_g)*s(psi_g)\n",
    "u22 = -s(phi_g)*c(theta_g)*s(psi_g) + c(phi_g)*c(psi_g)\n",
    "u23 = s(phi_g)*s(theta_g)\n",
    "u31 = -s(theta_g)*c(psi_g)\n",
    "u32 = s(theta_g)*s(psi_g)\n",
    "u33 = c(theta_g)\n",
    "\n",
    "R =  np.array([[u11, u12, u13],[u21, u22, u23],[u31, u32, u33]])"
   ]
  },
  {
   "cell_type": "code",
   "execution_count": 26,
   "metadata": {},
   "outputs": [
    {
     "data": {
      "text/plain": [
       "0.6123724356957945"
      ]
     },
     "execution_count": 26,
     "metadata": {},
     "output_type": "execute_result"
    }
   ],
   "source": [
    "R[1,2]"
   ]
  },
  {
   "cell_type": "code",
   "execution_count": 27,
   "metadata": {},
   "outputs": [
    {
     "data": {
      "text/plain": [
       "array([[-0.12682648, -0.9267767 ,  0.35355339],\n",
       "       [ 0.78033009,  0.12682648,  0.61237244],\n",
       "       [-0.61237244,  0.35355339,  0.70710678]])"
      ]
     },
     "execution_count": 27,
     "metadata": {},
     "output_type": "execute_result"
    }
   ],
   "source": [
    "R"
   ]
  },
  {
   "cell_type": "code",
   "execution_count": 28,
   "metadata": {},
   "outputs": [
    {
     "data": {
      "text/plain": [
       "(45.00000000000001, 30.000000000000004, 60.00000000000001)"
      ]
     },
     "execution_count": 28,
     "metadata": {},
     "output_type": "execute_result"
    }
   ],
   "source": [
    "wrist_calculations(R)"
   ]
  },
  {
   "cell_type": "code",
   "execution_count": null,
   "metadata": {},
   "outputs": [],
   "source": []
  }
 ],
 "metadata": {
  "kernelspec": {
   "display_name": "Python 3",
   "language": "python",
   "name": "python3"
  },
  "language_info": {
   "codemirror_mode": {
    "name": "ipython",
    "version": 3
   },
   "file_extension": ".py",
   "mimetype": "text/x-python",
   "name": "python",
   "nbconvert_exporter": "python",
   "pygments_lexer": "ipython3",
   "version": "3.10.12"
  }
 },
 "nbformat": 4,
 "nbformat_minor": 2
}

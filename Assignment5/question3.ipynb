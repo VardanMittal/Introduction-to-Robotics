{
 "cells": [
  {
   "cell_type": "code",
   "execution_count": 1,
   "metadata": {},
   "outputs": [],
   "source": [
    "import numpy as np\n",
    "from utils import *"
   ]
  },
  {
   "cell_type": "code",
   "execution_count": 2,
   "metadata": {},
   "outputs": [],
   "source": [
    "theta = [np.radians(30), np.radians(45), np.radians(60)]\n",
    "alpha = [np.radians(90), -np.radians(90), 0]\n",
    "d = [0.5, 0.5, 0.5]\n",
    "a = [0.2,0.3,0.1]"
   ]
  },
  {
   "cell_type": "code",
   "execution_count": 3,
   "metadata": {},
   "outputs": [],
   "source": [
    "def calculate_joint_velocities(X_dot, dh_params):\n",
    "    J = Jacobian(dh_params)\n",
    "    J_inv = np.linalg.pinv(J)\n",
    "    q_dot = np.dot(J_inv, X_dot)\n",
    "    \n",
    "    return q_dot"
   ]
  },
  {
   "cell_type": "code",
   "execution_count": 4,
   "metadata": {},
   "outputs": [],
   "source": [
    "dh = DH_matrix(theta, alpha, a, d)\n",
    "X_dot = np.array([0.1, 0.2, 0.3, 0.01, 0.02, 0.03])"
   ]
  },
  {
   "cell_type": "code",
   "execution_count": 5,
   "metadata": {},
   "outputs": [
    {
     "name": "stdout",
     "output_type": "stream",
     "text": [
      "Joint Velocities:\n",
      "[ 0.12392967  0.01101468 -0.10292425]\n"
     ]
    }
   ],
   "source": [
    "q_dot = calculate_joint_velocities(X_dot, dh)\n",
    "\n",
    "print(\"Joint Velocities:\")\n",
    "print(q_dot)"
   ]
  }
 ],
 "metadata": {
  "kernelspec": {
   "display_name": "Python 3",
   "language": "python",
   "name": "python3"
  },
  "language_info": {
   "codemirror_mode": {
    "name": "ipython",
    "version": 3
   },
   "file_extension": ".py",
   "mimetype": "text/x-python",
   "name": "python",
   "nbconvert_exporter": "python",
   "pygments_lexer": "ipython3",
   "version": "3.12.4"
  }
 },
 "nbformat": 4,
 "nbformat_minor": 2
}

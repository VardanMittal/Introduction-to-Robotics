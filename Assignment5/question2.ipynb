{
 "cells": [
  {
   "cell_type": "code",
   "execution_count": 129,
   "metadata": {},
   "outputs": [],
   "source": [
    "import numpy as np\n",
    "from utils import *"
   ]
  },
  {
   "cell_type": "code",
   "execution_count": 178,
   "metadata": {},
   "outputs": [],
   "source": [
    "px,py,pz = 1.0,2.0,3.0\n",
    "alpha = [np.radians(90),-np.radians(90),0]\n",
    "a = [0,0,0]\n",
    "d1 = 1.0\n",
    "d2 = 1.0"
   ]
  },
  {
   "cell_type": "code",
   "execution_count": 185,
   "metadata": {},
   "outputs": [],
   "source": [
    "def Inv_sperical_config(px,py,pz,d1,d2):\n",
    "    r = np.sqrt(px**2 + py**2) \n",
    "    s = pz - d1\n",
    "    theta_1 = np.arctan2(py, px)\n",
    "    theta_2 = np.arctan2(s, r)\n",
    "    \n",
    "    d3 = np.sqrt(r**2 + s**2) - d2\n",
    "\n",
    "    return theta_1,theta_2,d3"
   ]
  },
  {
   "cell_type": "code",
   "execution_count": 186,
   "metadata": {},
   "outputs": [],
   "source": [
    "def forward_kinematics(theta1, theta2, d3):\n",
    "        \n",
    "    theta = [theta1, theta2, 0]\n",
    "    d = [d1, d2, d3]\n",
    "\n",
    "    dh_params = DH_matrix(theta, alpha, a, d)\n",
    "\n",
    "    T_total = np.eye(4)\n",
    "    for dh in dh_params:\n",
    "        T_total = T_total @ T(dh)\n",
    "\n",
    "    return T_total"
   ]
  },
  {
   "cell_type": "code",
   "execution_count": 187,
   "metadata": {},
   "outputs": [
    {
     "name": "stdout",
     "output_type": "stream",
     "text": [
      "Inverse Kinematics:\n",
      "θ1: 1.1071487177940904, θ2: 0.7297276562269663, d3: 3.0\n"
     ]
    }
   ],
   "source": [
    "theta_1,theta_2,d3 = Inv_sperical_config(px,py,pz,d1,d2)\n",
    "\n",
    "print(\"Inverse Kinematics:\")\n",
    "print(f\"θ1: {theta_1}, θ2: {theta_2}, d3: {d3}\")"
   ]
  },
  {
   "cell_type": "code",
   "execution_count": 188,
   "metadata": {},
   "outputs": [],
   "source": [
    "T_total = forward_kinematics(theta_1, theta_2, d3)"
   ]
  },
  {
   "cell_type": "code",
   "execution_count": 189,
   "metadata": {},
   "outputs": [
    {
     "name": "stdout",
     "output_type": "stream",
     "text": [
      "Forward Kinematics Transformation Matrix:\n",
      "[[ 0.3375 -0.89   -0.3015 -0.0145]\n",
      " [ 0.6675  0.45   -0.5963 -2.2389]\n",
      " [ 0.67    0.      0.75    3.25  ]\n",
      " [ 0.      0.      0.      1.    ]]\n"
     ]
    }
   ],
   "source": [
    "print(\"Forward Kinematics Transformation Matrix:\")\n",
    "print(T_total)"
   ]
  },
  {
   "cell_type": "code",
   "execution_count": 190,
   "metadata": {},
   "outputs": [
    {
     "name": "stdout",
     "output_type": "stream",
     "text": [
      "End-Effector Position:\n",
      "[-0.0145 -2.2389  3.25  ]\n"
     ]
    }
   ],
   "source": [
    "end_effector_position = T_total[:3, 3]\n",
    "print(\"End-Effector Position:\")\n",
    "print(end_effector_position)"
   ]
  }
 ],
 "metadata": {
  "kernelspec": {
   "display_name": "Python 3",
   "language": "python",
   "name": "python3"
  },
  "language_info": {
   "codemirror_mode": {
    "name": "ipython",
    "version": 3
   },
   "file_extension": ".py",
   "mimetype": "text/x-python",
   "name": "python",
   "nbconvert_exporter": "python",
   "pygments_lexer": "ipython3",
   "version": "3.12.4"
  }
 },
 "nbformat": 4,
 "nbformat_minor": 2
}

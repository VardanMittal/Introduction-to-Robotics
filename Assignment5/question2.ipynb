{
 "cells": [
  {
   "cell_type": "code",
   "execution_count": 127,
   "metadata": {},
   "outputs": [],
   "source": [
    "import numpy as np\n",
    "from utils import *"
   ]
  },
  {
   "cell_type": "code",
   "execution_count": 128,
   "metadata": {},
   "outputs": [],
   "source": [
    "px,py,pz = 5.0, 7.5,5.0\n",
    "alpha = [np.deg2rad(90),-np.deg2rad(90),0]\n",
    "a = [10.0, 15.0, 0]\n",
    "d1 = 10.0"
   ]
  },
  {
   "cell_type": "code",
   "execution_count": 155,
   "metadata": {},
   "outputs": [],
   "source": [
    "def Inv_sperical_config(px,py,pz,d1,a2):\n",
    "    r = np.sqrt(px**2 + py**2) \n",
    "    s = pz - d1\n",
    "    theta_1 = np.arctan2(py, px)\n",
    "    d3 = np.sqrt(r**2 + s**2) - a2\n",
    "    theta_2 = np.arctan2(s,r)\n",
    "    \n",
    "\n",
    "    return np.pi - theta_1,np.pi - theta_2,d3\n",
    "\n",
    "theta_1, theta_2, d3 = Inv_sperical_config(px,py,pz,d1,a[1])"
   ]
  },
  {
   "cell_type": "code",
   "execution_count": 156,
   "metadata": {},
   "outputs": [],
   "source": [
    "R_x = lambda theta: np.array([[1,0,0], [0,np.cos(theta), -np.sin(theta)], [0,np.sin(theta), np.cos(theta)]])\n",
    "R_y = lambda theta: np.array([[np.cos(theta), 0, np.sin(theta)], [0,1,0], [-np.sin(theta), 0, np.cos(theta)]])\n",
    "R_z = lambda theta: np.array([[np.cos(theta), -np.sin(theta), 0], [np.sin(theta), np.cos(theta),0], [0,0,1]])\n",
    "p = lambda x,y,z: np.array([x,y,z,1]).T"
   ]
  },
  {
   "cell_type": "code",
   "execution_count": 157,
   "metadata": {},
   "outputs": [],
   "source": [
    "H = lambda R, p: np.array([[R[0][0], R[0][1], R[0][2], p[0]],\n",
    "                           [R[1][0], R[1][1], R[1][2], p[1]],\n",
    "                           [R[2][0], R[2][1], R[2][2], p[2]],\n",
    "                           [0, 0, 0, 1]])"
   ]
  },
  {
   "cell_type": "code",
   "execution_count": 158,
   "metadata": {},
   "outputs": [],
   "source": [
    "def StanfordSolver(q1,q2,d,l1,l2):\n",
    "    \"\"\"\n",
    "    This fuction returns the p0's coordinates\n",
    "\n",
    "    Keyword arguments:\n",
    "    q1,q1 -- joint angles|d -- planar joint movement|l1,l2 -- link lengths from base to planar joint\n",
    "    Return: return a 4 X 1 vector with [p0x,p0y,p0z,1] configuration\n",
    "    \"\"\"\n",
    "    H01 = H(R_z(np.deg2rad(q1)), p(0,0,0))\n",
    "    H12 = H(R_y(np.deg2rad(-90)),p(0,0,l1))\n",
    "    H23 = H(R_z(np.deg2rad(q2)), p(0,0,0))\n",
    "    H34 = H(R_z(np.deg2rad(0)), p(0,0,-l2))\n",
    "    H45 = H(R_z(np.deg2rad(-90)), p(0,0,0))\n",
    "    p5 = p(d,0,0)\n",
    "    return H01@H12@H23@H34@H45@p5"
   ]
  },
  {
   "cell_type": "code",
   "execution_count": 159,
   "metadata": {},
   "outputs": [],
   "source": [
    "T_total = StanfordSolver(np.rad2deg(theta_1),np.rad2deg(theta_2),d3,a[0],a[1])[:3]"
   ]
  },
  {
   "cell_type": "code",
   "execution_count": 160,
   "metadata": {},
   "outputs": [
    {
     "name": "stdout",
     "output_type": "stream",
     "text": [
      "Forward Kinematics Transformation Matrix:\n",
      "[-4.90639982 14.75682317 12.27606875]\n"
     ]
    }
   ],
   "source": [
    "print(\"Forward Kinematics Transformation Matrix:\")\n",
    "print(T_total)"
   ]
  },
  {
   "cell_type": "code",
   "execution_count": null,
   "metadata": {},
   "outputs": [],
   "source": []
  }
 ],
 "metadata": {
  "kernelspec": {
   "display_name": "Python 3",
   "language": "python",
   "name": "python3"
  },
  "language_info": {
   "codemirror_mode": {
    "name": "ipython",
    "version": 3
   },
   "file_extension": ".py",
   "mimetype": "text/x-python",
   "name": "python",
   "nbconvert_exporter": "python",
   "pygments_lexer": "ipython3",
   "version": "3.10.12"
  }
 },
 "nbformat": 4,
 "nbformat_minor": 2
}
